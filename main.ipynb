{
 "cells": [
  {
   "cell_type": "code",
   "execution_count": 256,
   "metadata": {},
   "outputs": [],
   "source": [
    "import torch\n",
    "import torchvision\n",
    "import matplotlib.pyplot as plt"
   ]
  },
  {
   "cell_type": "code",
   "execution_count": 257,
   "metadata": {},
   "outputs": [
    {
     "name": "stdout",
     "output_type": "stream",
     "text": [
      "Using cuda.\n"
     ]
    }
   ],
   "source": [
    "device = torch.device('cuda' if torch.cuda.is_available() else 'cpu')\n",
    "print(f'Using {device}.')"
   ]
  },
  {
   "cell_type": "markdown",
   "metadata": {},
   "source": [
    "## Data Loading"
   ]
  },
  {
   "cell_type": "code",
   "execution_count": 258,
   "metadata": {},
   "outputs": [],
   "source": [
    "def load_data_CIFAR_10(batch_size, resize=None):\n",
    "    \"\"\"Download the CIFAR_10 dataset and then load it into memory.\"\"\"\n",
    "    trans = [torchvision.transforms.ToTensor()]\n",
    "    if resize:\n",
    "        trans.insert(0, torchvision.transforms.Resize(resize))\n",
    "    trans = torchvision.transforms.Compose(trans)\n",
    "\n",
    "    cifar_train = torchvision.datasets.CIFAR10(root=\"./data\", train=True, transform=trans, download=True)\n",
    "    cifar_test = torchvision.datasets.CIFAR10(root=\"./data\", train=False, transform=trans, download=True)\n",
    "\n",
    "    return (torch.utils.data.DataLoader(cifar_train, batch_size, shuffle=True, num_workers=2, pin_memory=True), # Using pinned memory\n",
    "            torch.utils.data.DataLoader(cifar_test, batch_size, shuffle=False, num_workers=2, pin_memory=True)) # Using pinned memory"
   ]
  },
  {
   "cell_type": "code",
   "execution_count": 259,
   "metadata": {},
   "outputs": [
    {
     "name": "stdout",
     "output_type": "stream",
     "text": [
      "Files already downloaded and verified\n",
      "Files already downloaded and verified\n"
     ]
    }
   ],
   "source": [
    "train_iter, test_iter = load_data_CIFAR_10(128) # batch size is 128"
   ]
  },
  {
   "cell_type": "code",
   "execution_count": 260,
   "metadata": {},
   "outputs": [
    {
     "name": "stdout",
     "output_type": "stream",
     "text": [
      "torch.Size([128, 3, 32, 32])\n",
      "torch.Size([128])\n"
     ]
    }
   ],
   "source": [
    "X, Y = next(iter(train_iter))\n",
    "print(X.shape)\n",
    "print(Y.shape)"
   ]
  },
  {
   "cell_type": "markdown",
   "metadata": {},
   "source": [
    "## Generate Intermediate Blocks"
   ]
  },
  {
   "cell_type": "code",
   "execution_count": 261,
   "metadata": {},
   "outputs": [],
   "source": [
    "class IntBlock1(torch.nn.Module):\n",
    "  def __init__(self, input_channels, output_channels):\n",
    "    super(IntBlock1,self).__init__()\n",
    "    self.Linear_par = torch.nn.Linear(input_channels, 4)\n",
    "    self.BN = torch.nn.BatchNorm2d(output_channels)\n",
    "    self.maxpool = torch.nn.MaxPool2d(kernel_size=3, stride=2, padding=1)\n",
    "\n",
    "    self.Conv1 = torch.nn.Conv2d(input_channels, output_channels, kernel_size=1, padding=1, stride=1)\n",
    "    self.Sigmoid = torch.nn.Sigmoid()\n",
    "\n",
    "    self.Conv2 = torch.nn.Conv2d(input_channels, output_channels, kernel_size=3, padding=2, stride=1 )\n",
    "    self.Relu = torch.nn.ReLU()\n",
    "\n",
    "\n",
    "    self.Conv3 = torch.nn.Conv2d(input_channels, output_channels, kernel_size=5, padding=3, stride=1)\n",
    " \n",
    "\n",
    "    self.Conv4 = torch.nn.Conv2d(input_channels, output_channels, kernel_size=7, padding=4, stride=1)\n",
    "\n",
    "\n",
    "  def lin_parameters(self,x):\n",
    "        mean = torch.mean(torch.flatten(x, 2), dim=2)\n",
    "        a = self.Linear_par(mean)\n",
    "        return a\n",
    "    \n",
    "  \n",
    "  def forward(self,x):\n",
    "    a = self.lin_parameters(x)\n",
    "    a1 = a[:, 0].unsqueeze(1).unsqueeze(2).unsqueeze(3)\n",
    "    a2 = a[:, 1].unsqueeze(1).unsqueeze(2).unsqueeze(3)\n",
    "    a3 = a[:, 2].unsqueeze(1).unsqueeze(2).unsqueeze(3)\n",
    "    a4 = a[:, 3].unsqueeze(1).unsqueeze(2).unsqueeze(3)\n",
    "      \n",
    "    out1 = self.Conv1(x)\n",
    "    out1 = self.Relu(out1)\n",
    "    out1 =  out1 * a1\n",
    "\n",
    "    out2 = self.Conv2(x)\n",
    "    out2 = self.Relu(out2)\n",
    "    out2 = out2 * a2\n",
    "\n",
    "    out3 = self.Conv3(x)\n",
    "    out3 = self.Relu(out3)\n",
    "    out3 = out3 * a3\n",
    "\n",
    "    out4 = self.Conv4(x)\n",
    "    out4 = self.Relu(out4)\n",
    "    out4 = out4 * a4\n",
    "    \n",
    "\n",
    "    out = out1 + out2 + out3 + out4\n",
    "    out = self.BN(out)\n",
    "    return out\n",
    "\n"
   ]
  },
  {
   "cell_type": "code",
   "execution_count": 262,
   "metadata": {},
   "outputs": [],
   "source": [
    "class IntBlock2(torch.nn.Module):\n",
    "  def __init__(self, input_channels, output_channels):\n",
    "    super(IntBlock2,self).__init__()\n",
    "    self.Linear_par = torch.nn.Linear(input_channels, 4)\n",
    "    self.BN = torch.nn.BatchNorm2d(output_channels)\n",
    "    self.maxpool = torch.nn.MaxPool2d(kernel_size=3, stride=2, padding=1)\n",
    "\n",
    "    self.Conv1 = torch.nn.Conv2d(input_channels, output_channels, kernel_size=1, padding=1, stride=1)\n",
    "    self.Sigmoid = torch.nn.Sigmoid()\n",
    "\n",
    "    self.Conv2 = torch.nn.Conv2d(input_channels, output_channels, kernel_size=3, padding=2, stride=1 )\n",
    "    self.Relu = torch.nn.ReLU()\n",
    "\n",
    "\n",
    "    self.Conv3 = torch.nn.Conv2d(input_channels, output_channels, kernel_size=5, padding=3, stride=1)\n",
    " \n",
    "\n",
    "    self.Conv4 = torch.nn.Conv2d(input_channels, output_channels, kernel_size=7, padding=4, stride=1)\n",
    "\n",
    "\n",
    "  def lin_parameters(self,x):\n",
    "        mean = torch.mean(torch.flatten(x, 2), dim=2)\n",
    "        a = self.Linear_par(mean)\n",
    "        return a\n",
    "  \n",
    "  def forward(self,x):\n",
    "    a = self.lin_parameters(x)\n",
    "    a1 = a[:, 0].unsqueeze(1).unsqueeze(2).unsqueeze(3)\n",
    "    a2 = a[:, 1].unsqueeze(1).unsqueeze(2).unsqueeze(3)\n",
    "    a3 = a[:, 2].unsqueeze(1).unsqueeze(2).unsqueeze(3)\n",
    "    a4 = a[:, 3].unsqueeze(1).unsqueeze(2).unsqueeze(3)\n",
    "      \n",
    "    out1 = self.Conv1(x)\n",
    "    out1 = self.Relu(out1)\n",
    "    out1 =  out1 * a1\n",
    "\n",
    "    out2 = self.Conv2(x)\n",
    "    out2 = self.Relu(out2)\n",
    "    out2 = out2 * a2\n",
    "\n",
    "    out3 = self.Conv3(x)\n",
    "    out3 = self.Relu(out3)\n",
    "    out3 = out3 * a3\n",
    "\n",
    "    out4 = self.Conv4(x)\n",
    "    out4 = self.Relu(out4)\n",
    "    out4 = out4 * a4\n",
    "    \n",
    "\n",
    "    out = out1 + out2 + out3 + out4\n",
    "    out = self.BN(out)\n",
    "    return out\n",
    "\n"
   ]
  },
  {
   "cell_type": "code",
   "execution_count": 263,
   "metadata": {},
   "outputs": [],
   "source": [
    "class IntBlock3(torch.nn.Module):\n",
    "  def __init__(self, input_channels, output_channels):\n",
    "    super(IntBlock3,self).__init__()\n",
    "    self.Linear_par = torch.nn.Linear(input_channels, 4)\n",
    "    self.BN = torch.nn.BatchNorm2d(output_channels)\n",
    "    self.maxpool = torch.nn.MaxPool2d(kernel_size=3, stride=2, padding=1)\n",
    "\n",
    "    self.Conv1 = torch.nn.Conv2d(input_channels, output_channels, kernel_size=1, padding=1, stride=1)\n",
    "    self.Sigmoid = torch.nn.Sigmoid()\n",
    "\n",
    "    self.Conv2 = torch.nn.Conv2d(input_channels, output_channels, kernel_size=3, padding=2, stride=1 )\n",
    "    self.Relu = torch.nn.ReLU()\n",
    "\n",
    "\n",
    "    self.Conv3 = torch.nn.Conv2d(input_channels, output_channels, kernel_size=5, padding=3, stride=1)\n",
    " \n",
    "\n",
    "    self.Conv4 = torch.nn.Conv2d(input_channels, output_channels, kernel_size=7, padding=4, stride=1)\n",
    "\n",
    "\n",
    "  def lin_parameters(self,x):\n",
    "    mean = torch.mean(torch.flatten(x, 2), dim=2)\n",
    "    a = self.Linear_par(mean)\n",
    "    return a\n",
    "  \n",
    "  def forward(self,x):\n",
    "    a = self.lin_parameters(x)\n",
    "    a1 = a[:, 0].unsqueeze(1).unsqueeze(2).unsqueeze(3)\n",
    "    a2 = a[:, 1].unsqueeze(1).unsqueeze(2).unsqueeze(3)\n",
    "    a3 = a[:, 2].unsqueeze(1).unsqueeze(2).unsqueeze(3)\n",
    "    a4 = a[:, 3].unsqueeze(1).unsqueeze(2).unsqueeze(3)\n",
    "\n",
    "    out1 = self.Conv1(x)\n",
    "    out1 = self.Relu(out1)\n",
    "    out1 = out1 * a1\n",
    "\n",
    "    out2 = self.Conv2(x)\n",
    "    out2 = self.Relu(out2)\n",
    "    out2 = out2 * a2\n",
    "\n",
    "    out3 = self.Conv3(x)\n",
    "    out3 = self.Relu(out3)\n",
    "    out3 = out3 * a3\n",
    "\n",
    "    out4 = self.Conv4(x)\n",
    "    out4 = self.Relu(out4)\n",
    "    out4 = out4 * a4\n",
    "    \n",
    "\n",
    "    out = out1 + out2 + out3 + out4\n",
    "    out = self.BN(out)\n",
    "    return out\n",
    "\n"
   ]
  },
  {
   "cell_type": "markdown",
   "metadata": {},
   "source": [
    "## Generate Macro Block"
   ]
  },
  {
   "cell_type": "code",
   "execution_count": 264,
   "metadata": {},
   "outputs": [],
   "source": [
    "class MacroBlock(torch.nn.Module):\n",
    "  def __init__(self, input_channels, output_channels):\n",
    "    super(MacroBlock,self).__init__()\n",
    "    self.Conv1 = IntBlock1(input_channels, 32)\n",
    "    self.Conv2 = IntBlock2(32, 64)\n",
    "    self.Conv3 = IntBlock3(64, 128)\n",
    "    self.Flatten = torch.nn.Flatten()\n",
    "    self.Linear1 = torch.nn.Linear(128,10)\n",
    "  def forward(self, x):\n",
    "    out = self.Conv1(x)\n",
    "    out = self.Conv2(out)\n",
    "    out = self.Conv3(out)\n",
    "    out = torch.mean(torch.flatten(out, 2), dim=2)\n",
    "    out = self.Linear1(out)\n",
    "    return out\n",
    "\n"
   ]
  },
  {
   "cell_type": "code",
   "execution_count": 265,
   "metadata": {},
   "outputs": [
    {
     "data": {
      "text/plain": [
       "MacroBlock(\n",
       "  (Conv1): IntBlock1(\n",
       "    (Linear_par): Linear(in_features=3, out_features=4, bias=True)\n",
       "    (BN): BatchNorm2d(32, eps=1e-05, momentum=0.1, affine=True, track_running_stats=True)\n",
       "    (maxpool): MaxPool2d(kernel_size=3, stride=2, padding=1, dilation=1, ceil_mode=False)\n",
       "    (Conv1): Conv2d(3, 32, kernel_size=(1, 1), stride=(1, 1), padding=(1, 1))\n",
       "    (Sigmoid): Sigmoid()\n",
       "    (Conv2): Conv2d(3, 32, kernel_size=(3, 3), stride=(1, 1), padding=(2, 2))\n",
       "    (Relu): ReLU()\n",
       "    (Conv3): Conv2d(3, 32, kernel_size=(5, 5), stride=(1, 1), padding=(3, 3))\n",
       "    (Conv4): Conv2d(3, 32, kernel_size=(7, 7), stride=(1, 1), padding=(4, 4))\n",
       "  )\n",
       "  (Conv2): IntBlock2(\n",
       "    (Linear_par): Linear(in_features=32, out_features=4, bias=True)\n",
       "    (BN): BatchNorm2d(64, eps=1e-05, momentum=0.1, affine=True, track_running_stats=True)\n",
       "    (maxpool): MaxPool2d(kernel_size=3, stride=2, padding=1, dilation=1, ceil_mode=False)\n",
       "    (Conv1): Conv2d(32, 64, kernel_size=(1, 1), stride=(1, 1), padding=(1, 1))\n",
       "    (Sigmoid): Sigmoid()\n",
       "    (Conv2): Conv2d(32, 64, kernel_size=(3, 3), stride=(1, 1), padding=(2, 2))\n",
       "    (Relu): ReLU()\n",
       "    (Conv3): Conv2d(32, 64, kernel_size=(5, 5), stride=(1, 1), padding=(3, 3))\n",
       "    (Conv4): Conv2d(32, 64, kernel_size=(7, 7), stride=(1, 1), padding=(4, 4))\n",
       "  )\n",
       "  (Conv3): IntBlock3(\n",
       "    (Linear_par): Linear(in_features=64, out_features=4, bias=True)\n",
       "    (BN): BatchNorm2d(128, eps=1e-05, momentum=0.1, affine=True, track_running_stats=True)\n",
       "    (maxpool): MaxPool2d(kernel_size=3, stride=2, padding=1, dilation=1, ceil_mode=False)\n",
       "    (Conv1): Conv2d(64, 128, kernel_size=(1, 1), stride=(1, 1), padding=(1, 1))\n",
       "    (Sigmoid): Sigmoid()\n",
       "    (Conv2): Conv2d(64, 128, kernel_size=(3, 3), stride=(1, 1), padding=(2, 2))\n",
       "    (Relu): ReLU()\n",
       "    (Conv3): Conv2d(64, 128, kernel_size=(5, 5), stride=(1, 1), padding=(3, 3))\n",
       "    (Conv4): Conv2d(64, 128, kernel_size=(7, 7), stride=(1, 1), padding=(4, 4))\n",
       "  )\n",
       "  (Flatten): Flatten(start_dim=1, end_dim=-1)\n",
       "  (Linear1): Linear(in_features=128, out_features=10, bias=True)\n",
       ")"
      ]
     },
     "execution_count": 265,
     "metadata": {},
     "output_type": "execute_result"
    }
   ],
   "source": [
    "# Applies Xavier initialization if the `torch.nn.Module` is `torch.nn.Linear` or `torch.nn.Conv2d`\n",
    "def init_weights(m):\n",
    "  if type(m) == torch.nn.Linear or type(m) == torch.nn.Conv2d:\n",
    "    torch.nn.init.xavier_uniform_(m.weight)\n",
    "\n",
    "model = MacroBlock(3, 128).to(device)\n",
    "model.apply(init_weights)\n"
   ]
  },
  {
   "cell_type": "code",
   "execution_count": 266,
   "metadata": {},
   "outputs": [],
   "source": [
    "loss = torch.nn.CrossEntropyLoss()"
   ]
  },
  {
   "cell_type": "code",
   "execution_count": 267,
   "metadata": {},
   "outputs": [],
   "source": [
    "lr = 0.008 # learning rate is 0.008\n",
    "optimizer = torch.optim.Adam(model.parameters(), lr=lr)"
   ]
  },
  {
   "cell_type": "code",
   "execution_count": 268,
   "metadata": {},
   "outputs": [],
   "source": [
    "def correct(logits, y):\n",
    "  y_hat = logits.argmax(axis=1)\n",
    "  return (y_hat == y).float().sum()"
   ]
  },
  {
   "cell_type": "code",
   "execution_count": 269,
   "metadata": {},
   "outputs": [],
   "source": [
    "def evaluate_metric(model, data_iter, metric):\n",
    "  t = torch.tensor(0.).to(device)\n",
    "  n = torch.tensor(0.).to(device)\n",
    "  for x, y in data_iter:\n",
    "    x, y = x.to(device) , y.to(device)\n",
    "    logits = model(x)\n",
    "    t += metric(logits, y)\n",
    "    n += len(y)\n",
    "  return float(t / n)"
   ]
  },
  {
   "cell_type": "markdown",
   "metadata": {},
   "source": [
    "## Training"
   ]
  },
  {
   "cell_type": "code",
   "execution_count": 270,
   "metadata": {},
   "outputs": [
    {
     "name": "stdout",
     "output_type": "stream",
     "text": [
      "epoch 1/30:\n",
      "Training accuracy: 0.3043400049209595  Testing accuracy: 0.3084999918937683\n",
      "epoch 2/30:\n",
      "Training accuracy: 0.4346199929714203  Testing accuracy: 0.43130001425743103\n",
      "epoch 3/30:\n",
      "Training accuracy: 0.5994200110435486  Testing accuracy: 0.5940999984741211\n",
      "epoch 4/30:\n",
      "Training accuracy: 0.5885599851608276  Testing accuracy: 0.5784000158309937\n",
      "epoch 5/30:\n",
      "Training accuracy: 0.6832600235939026  Testing accuracy: 0.6678000092506409\n",
      "epoch 6/30:\n",
      "Training accuracy: 0.7066799998283386  Testing accuracy: 0.6827999949455261\n",
      "epoch 7/30:\n",
      "Training accuracy: 0.7636399865150452  Testing accuracy: 0.7343000173568726\n",
      "epoch 8/30:\n",
      "Training accuracy: 0.7861199975013733  Testing accuracy: 0.7404999732971191\n",
      "epoch 9/30:\n",
      "Training accuracy: 0.8016600012779236  Testing accuracy: 0.7542999982833862\n",
      "epoch 10/30:\n",
      "Training accuracy: 0.8374599814414978  Testing accuracy: 0.7774999737739563\n",
      "epoch 11/30:\n",
      "Training accuracy: 0.8360000252723694  Testing accuracy: 0.7635999917984009\n",
      "epoch 12/30:\n",
      "Training accuracy: 0.8299800157546997  Testing accuracy: 0.7554000020027161\n",
      "epoch 13/30:\n",
      "Training accuracy: 0.8476399779319763  Testing accuracy: 0.7696999907493591\n",
      "epoch 14/30:\n",
      "Training accuracy: 0.8854600191116333  Testing accuracy: 0.7915999889373779\n",
      "epoch 15/30:\n",
      "Training accuracy: 0.896120011806488  Testing accuracy: 0.7843000292778015\n",
      "epoch 16/30:\n",
      "Training accuracy: 0.8893799781799316  Testing accuracy: 0.7853000164031982\n",
      "epoch 17/30:\n",
      "Training accuracy: 0.9076200127601624  Testing accuracy: 0.7904000282287598\n",
      "epoch 18/30:\n",
      "Training accuracy: 0.9192000031471252  Testing accuracy: 0.7915999889373779\n",
      "epoch 19/30:\n",
      "Training accuracy: 0.8736600279808044  Testing accuracy: 0.7541000247001648\n",
      "epoch 20/30:\n",
      "Training accuracy: 0.9493799805641174  Testing accuracy: 0.7967000007629395\n",
      "epoch 21/30:\n",
      "Training accuracy: 0.9133800268173218  Testing accuracy: 0.771399974822998\n",
      "epoch 22/30:\n",
      "Training accuracy: 0.9264600276947021  Testing accuracy: 0.7807000279426575\n",
      "epoch 23/30:\n",
      "Training accuracy: 0.9097800254821777  Testing accuracy: 0.7663000226020813\n",
      "epoch 24/30:\n",
      "Training accuracy: 0.9146599769592285  Testing accuracy: 0.7669000029563904\n",
      "epoch 25/30:\n",
      "Training accuracy: 0.9549400210380554  Testing accuracy: 0.7975999712944031\n",
      "epoch 26/30:\n",
      "Training accuracy: 0.9338799715042114  Testing accuracy: 0.7788000106811523\n",
      "epoch 27/30:\n",
      "Training accuracy: 0.9667199850082397  Testing accuracy: 0.7980999946594238\n",
      "epoch 28/30:\n",
      "Training accuracy: 0.9718999862670898  Testing accuracy: 0.807200014591217\n",
      "epoch 29/30:\n",
      "Training accuracy: 0.9584199786186218  Testing accuracy: 0.7954000234603882\n",
      "epoch 30/30:\n",
      "Training accuracy: 0.946619987487793  Testing accuracy: 0.7865999937057495\n"
     ]
    },
    {
     "data": {
      "image/png": "[encoded data removed]",
      "text/plain": [
       "<Figure size 640x480 with 1 Axes>"
      ]
     },
     "metadata": {},
     "output_type": "display_data"
    },
    {
     "data": {
      "image/png": "[encoded data removed]",
      "text/plain": [
       "<Figure size 640x480 with 1 Axes>"
      ]
     },
     "metadata": {},
     "output_type": "display_data"
    }
   ],
   "source": [
    "losses = [] # Stores the loss for each training batch\n",
    "train_accs = [] # Stores the training accuracy after each epoch\n",
    "test_accs = []  # Stores the testing accuracy after each epoch\n",
    "num_epochs = 30\n",
    "for n in range(num_epochs):\n",
    "  model.train() # This is necessary because batch normalization behaves differently between training and evaluation\n",
    "  for x, y in train_iter:\n",
    "    x, y = x.to(device), y.to(device) # Moves data to `device`\n",
    "    logits = model(x) # Computes the logits for the batch of images `x`\n",
    "    l = loss(logits, y) # Computes the loss given the `logits` and the class vector `y`\n",
    "    optimizer.zero_grad() # Zeroes the gradients stored in the model parameters\n",
    "    l.backward() # Computes the gradient of the loss `l` with respect to the model parameters\n",
    "    optimizer.step() # Updates the model parameters based on the gradients stored inside them\n",
    "    losses.append(float(l)) # Stores the loss for this batch\n",
    "\n",
    "  model.eval() # This is necessary because batch normalization behaves differently between training and evaluation\n",
    "  train_accs.append(evaluate_metric(model, train_iter, correct))\n",
    "  test_accs.append(evaluate_metric(model, test_iter, correct))\n",
    "  print(f'epoch {n + 1}/{num_epochs}:')\n",
    "  print(f'Training accuracy: {train_accs[-1]}  Testing accuracy: {test_accs[-1]}')\n",
    "\n",
    "plt.plot(losses)\n",
    "plt.xlabel('training batch')\n",
    "plt.ylabel('cross entropy loss')\n",
    "plt.show()\n",
    "\n",
    "plt.plot(train_accs, label='Training accuracy')\n",
    "plt.plot(test_accs, label='Testing accuracy')\n",
    "plt.legend(loc='best')\n",
    "plt.xlabel('Epoch')\n",
    "plt.show()\n"
   ]
  },
  {
   "cell_type": "code",
   "execution_count": null,
   "metadata": {},
   "outputs": [],
   "source": []
  },
  {
   "cell_type": "code",
   "execution_count": null,
   "metadata": {},
   "outputs": [],
   "source": []
  }
 ],
 "metadata": {
  "kernelspec": {
   "display_name": "Python 3 (ipykernel)",
   "language": "python",
   "name": "python3"
  },
  "language_info": {
   "codemirror_mode": {
    "name": "ipython",
    "version": 3
   },
   "file_extension": ".py",
   "mimetype": "text/x-python",
   "name": "python",
   "nbconvert_exporter": "python",
   "pygments_lexer": "ipython3",
   "version": "3.11.7"
  }
 },
 "nbformat": 4,
 "nbformat_minor": 4
}
